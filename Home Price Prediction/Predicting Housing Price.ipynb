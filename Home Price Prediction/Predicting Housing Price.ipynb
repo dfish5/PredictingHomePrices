{
 "cells": [
  {
   "cell_type": "markdown",
   "metadata": {},
   "source": [
    "# Predicting Housing Prices\n",
    "\n",
    "## Introduction\n",
    "\n",
    "For this project, my goal is to determine the price of a house in King County (WA) using data mining techniques.\n",
    "\n",
    "Scenario: I am planning on purchasing a new home and would like to determine how much I should pay for a house in King County that meets my criteria:\n",
    "\n",
    "   1. 2000 sqft_living\n",
    "   2. 3000 sqft_lot\n",
    "   3. 1500 sqft_above\n",
    "   4. 500 sqft_basement\n",
    "   5. 47.77 lat\n",
    "   6. -122.20 long\n",
    "   7. 0 waterfront\n",
    "   8. 1 view\n",
    "   9. 4 bedrooms\n",
    "   10. 2 bathrooms\n",
    "   11. 2 floors\n",
    "   12. 4 condition\n",
    "   13. 9 grade\n",
    "   14. not built recently\n",
    "   15. is not renovated\n",
    "   16. sold in December\n",
    "   \n",
    "These are features you might find in a house near my neighborhood.\n",
    "\n",
    "## The data set\n",
    "\n",
    "I will be using a public domain data set available from [Kaggle](https://www.kaggle.com/harlfoxem/housesalesprediction). The data includes all home sales in King County, WA from May 2014 to May 2015. The outcome variable is $price$ and there are 20 features.\n",
    "\n",
    "**Explanation of features**\n",
    "\n",
    "Most of the feature variables are self explanatory, but some are not.\n",
    "   - $waterfront$: value of 1 if the house is overlooking the waterfront, 0 otherwise\n",
    "   - $view$: value from 0 to 4, where 0 is a house with a poor view\n",
    "   - $condition$: value from 1 to 5, where 1 is a house in poor condition\n",
    "   - $grade$: value from 1 to 13, where 1 is a house built with a poor level of construction and design\n",
    "   - $sqft\\_living15$: interior living space for the nearest 15 neighbors \n",
    "\n",
    "\n",
    "___\n",
    "\n",
    "## Loading the libraries"
   ]
  },
  {
   "cell_type": "code",
   "execution_count": 24,
   "metadata": {},
   "outputs": [
    {
     "name": "stderr",
     "output_type": "stream",
     "text": [
      "Warning message:\n",
      "\"package 'lubridate' was built under R version 3.6.3\"\n",
      "Attaching package: 'lubridate'\n",
      "\n",
      "The following object is masked from 'package:base':\n",
      "\n",
      "    date\n",
      "\n",
      "Warning message:\n",
      "\"package 'reshape2' was built under R version 3.6.3\"\n",
      "Attaching package: 'reshape2'\n",
      "\n",
      "The following object is masked from 'package:tidyr':\n",
      "\n",
      "    smiths\n",
      "\n",
      "Warning message:\n",
      "\"package 'scales' was built under R version 3.6.3\"\n",
      "Attaching package: 'scales'\n",
      "\n",
      "The following object is masked from 'package:purrr':\n",
      "\n",
      "    discard\n",
      "\n",
      "The following object is masked from 'package:readr':\n",
      "\n",
      "    col_factor\n",
      "\n"
     ]
    }
   ],
   "source": [
    "library(tidyverse)\n",
    "library(caret)\n",
    "library(GGally)\n",
    "library(lubridate)\n",
    "library(reshape2)\n",
    "library(scales)"
   ]
  },
  {
   "cell_type": "markdown",
   "metadata": {},
   "source": [
    "## Load and Prepare the Data Set"
   ]
  },
  {
   "cell_type": "code",
   "execution_count": 171,
   "metadata": {},
   "outputs": [
    {
     "name": "stderr",
     "output_type": "stream",
     "text": [
      "Parsed with column specification:\n",
      "cols(\n",
      "  .default = col_double(),\n",
      "  id = col_character(),\n",
      "  date = col_datetime(format = \"\")\n",
      ")\n",
      "See spec(...) for full column specifications.\n"
     ]
    },
    {
     "data": {
      "text/plain": [
       "      date                         price            bedrooms    \n",
       " Min.   :2014-05-02 00:00:00   Min.   :  75000   Min.   : 0.00  \n",
       " 1st Qu.:2014-07-22 00:00:00   1st Qu.: 321612   1st Qu.: 3.00  \n",
       " Median :2014-10-16 00:00:00   Median : 450000   Median : 3.00  \n",
       " Mean   :2014-10-29 05:04:11   Mean   : 540023   Mean   : 3.37  \n",
       " 3rd Qu.:2015-02-17 00:00:00   3rd Qu.: 645000   3rd Qu.: 4.00  \n",
       " Max.   :2015-05-27 00:00:00   Max.   :7700000   Max.   :11.00  \n",
       "                                                                \n",
       "   bathrooms      sqft_living       sqft_lot           floors     \n",
       " Min.   :0.000   Min.   :  290   Min.   :    520   Min.   :1.000  \n",
       " 1st Qu.:1.750   1st Qu.: 1426   1st Qu.:   5040   1st Qu.:1.000  \n",
       " Median :2.250   Median : 1910   Median :   7619   Median :1.500  \n",
       " Mean   :2.115   Mean   : 2080   Mean   :  15107   Mean   :1.494  \n",
       " 3rd Qu.:2.500   3rd Qu.: 2550   3rd Qu.:  10688   3rd Qu.:2.000  \n",
       " Max.   :8.000   Max.   :13540   Max.   :1651359   Max.   :3.500  \n",
       "                                                                  \n",
       "   waterfront            view          condition         grade       \n",
       " Min.   :0.000000   Min.   :0.0000   Min.   :1.000   Min.   : 1.000  \n",
       " 1st Qu.:0.000000   1st Qu.:0.0000   1st Qu.:3.000   1st Qu.: 7.000  \n",
       " Median :0.000000   Median :0.0000   Median :3.000   Median : 7.000  \n",
       " Mean   :0.007543   Mean   :0.2342   Mean   :3.409   Mean   : 7.657  \n",
       " 3rd Qu.:0.000000   3rd Qu.:0.0000   3rd Qu.:4.000   3rd Qu.: 8.000  \n",
       " Max.   :1.000000   Max.   :4.0000   Max.   :5.000   Max.   :13.000  \n",
       "                                                                     \n",
       "   sqft_above   sqft_basement       yr_built     yr_renovated    \n",
       " Min.   : 290   Min.   :   0.0   Min.   :1900   Min.   :   0.00  \n",
       " 1st Qu.:1190   1st Qu.:   0.0   1st Qu.:1951   1st Qu.:   0.00  \n",
       " Median :1560   Median :   0.0   Median :1975   Median :   0.00  \n",
       " Mean   :1788   Mean   : 291.5   Mean   :1971   Mean   :  84.41  \n",
       " 3rd Qu.:2210   3rd Qu.: 560.0   3rd Qu.:1997   3rd Qu.:   0.00  \n",
       " Max.   :9410   Max.   :4820.0   Max.   :2015   Max.   :2015.00  \n",
       "                                                                 \n",
       "      lat             long        sqft_living15    sqft_lot15    \n",
       " Min.   :47.16   Min.   :-122.5   Min.   : 399   Min.   :   651  \n",
       " 1st Qu.:47.47   1st Qu.:-122.3   1st Qu.:1490   1st Qu.:  5100  \n",
       " Median :47.57   Median :-122.2   Median :1840   Median :  7620  \n",
       " Mean   :47.56   Mean   :-122.2   Mean   :1986   Mean   : 12768  \n",
       " 3rd Qu.:47.68   3rd Qu.:-122.1   3rd Qu.:2360   3rd Qu.: 10083  \n",
       " Max.   :47.78   Max.   :-121.3   Max.   :6210   Max.   :871200  \n",
       "                                                                 \n",
       " waterfront_fac view_fac   bedrooms_fac  bathrooms_fac  floors_fac \n",
       " 0:21447        0:19487   3      :9824   2.5    :5380   1  :10679  \n",
       " 1:  163        1:  332   4      :6882   1      :3852   1.5: 1910  \n",
       "                2:  962   2      :2760   1.75   :3047   2  : 8240  \n",
       "                3:  510   5      :1601   2.25   :2047   2.5:  161  \n",
       "                4:  319   6      : 272   2      :1930   3  :  613  \n",
       "                          1      : 199   1.5    :1446   3.5:    7  \n",
       "                          (Other):  72   (Other):3908              \n",
       " condition_fac   grade_fac      price_log     sqft_above_log  sqft_living_log\n",
       " 1:   30       7      :8979   Min.   :4.875   Min.   :2.462   Min.   :2.462  \n",
       " 2:  172       8      :6068   1st Qu.:5.507   1st Qu.:3.076   1st Qu.:3.154  \n",
       " 3:14029       9      :2615   Median :5.653   Median :3.193   Median :3.281  \n",
       " 4: 5679       6      :2038   Mean   :5.667   Mean   :3.212   Mean   :3.279  \n",
       " 5: 1700       10     :1134   3rd Qu.:5.810   3rd Qu.:3.344   3rd Qu.:3.407  \n",
       "               11     : 399   Max.   :6.886   Max.   :3.974   Max.   :4.132  \n",
       "               (Other): 377                                                  \n",
       " sqft_basement_log  sqft_lot_log  \n",
       " Min.   :0.000     Min.   :2.716  \n",
       " 1st Qu.:0.000     1st Qu.:3.702  \n",
       " Median :0.000     Median :3.882  \n",
       " Mean   :1.098     Mean   :3.904  \n",
       " 3rd Qu.:2.749     3rd Qu.:4.029  \n",
       " Max.   :3.683     Max.   :6.218  \n",
       "                                  "
      ]
     },
     "metadata": {},
     "output_type": "display_data"
    },
    {
     "name": "stdout",
     "output_type": "stream",
     "text": [
      "Classes 'spec_tbl_df', 'tbl_df', 'tbl' and 'data.frame':\t21610 obs. of  31 variables:\n",
      " $ date             : POSIXct, format: \"2014-10-13\" \"2014-12-09\" ...\n",
      " $ price            : num  221900 538000 180000 604000 510000 ...\n",
      " $ bedrooms         : num  3 3 2 4 3 4 3 3 3 3 ...\n",
      " $ bathrooms        : num  1 2.25 1 3 2 4.5 2.25 1.5 1 2.5 ...\n",
      " $ sqft_living      : num  1180 2570 770 1960 1680 ...\n",
      " $ sqft_lot         : num  5650 7242 10000 5000 8080 ...\n",
      " $ floors           : num  1 2 1 1 1 1 2 1 1 2 ...\n",
      " $ waterfront       : num  0 0 0 0 0 0 0 0 0 0 ...\n",
      " $ view             : num  0 0 0 0 0 0 0 0 0 0 ...\n",
      " $ condition        : num  3 3 3 5 3 3 3 3 3 3 ...\n",
      " $ grade            : num  7 7 6 7 8 11 7 7 7 7 ...\n",
      " $ sqft_above       : num  1180 2170 770 1050 1680 ...\n",
      " $ sqft_basement    : num  0 400 0 910 0 1530 0 0 730 0 ...\n",
      " $ yr_built         : num  1955 1951 1933 1965 1987 ...\n",
      " $ yr_renovated     : num  0 1991 0 0 0 ...\n",
      " $ lat              : num  47.5 47.7 47.7 47.5 47.6 ...\n",
      " $ long             : num  -122 -122 -122 -122 -122 ...\n",
      " $ sqft_living15    : num  1340 1690 2720 1360 1800 ...\n",
      " $ sqft_lot15       : num  5650 7639 8062 5000 7503 ...\n",
      " $ waterfront_fac   : Factor w/ 2 levels \"0\",\"1\": 1 1 1 1 1 1 1 1 1 1 ...\n",
      " $ view_fac         : Factor w/ 5 levels \"0\",\"1\",\"2\",\"3\",..: 1 1 1 1 1 1 1 1 1 1 ...\n",
      " $ bedrooms_fac     : Factor w/ 13 levels \"0\",\"1\",\"2\",\"3\",..: 4 4 3 5 4 5 4 4 4 4 ...\n",
      " $ bathrooms_fac    : Factor w/ 30 levels \"0\",\"0.5\",\"0.75\",..: 4 9 4 12 8 18 9 6 4 10 ...\n",
      " $ floors_fac       : Factor w/ 6 levels \"1\",\"1.5\",\"2\",..: 1 3 1 1 1 1 3 1 1 3 ...\n",
      " $ condition_fac    : Factor w/ 5 levels \"1\",\"2\",\"3\",\"4\",..: 3 3 3 5 3 3 3 3 3 3 ...\n",
      " $ grade_fac        : Factor w/ 12 levels \"1\",\"3\",\"4\",\"5\",..: 6 6 5 6 7 10 6 6 6 6 ...\n",
      " $ price_log        : num  5.35 5.73 5.26 5.78 5.71 ...\n",
      " $ sqft_above_log   : num  3.07 3.34 2.89 3.02 3.23 ...\n",
      " $ sqft_living_log  : num  3.07 3.41 2.89 3.29 3.23 ...\n",
      " $ sqft_basement_log: num  0 2.6 0 2.96 0 ...\n",
      " $ sqft_lot_log     : num  3.75 3.86 4 3.7 3.91 ...\n"
     ]
    }
   ],
   "source": [
    "file = 'kc_house_data.csv'\n",
    "house = read_csv(file)\n",
    "\n",
    "set.seed(2436)\n",
    "\n",
    "#factor and log10 transform variables\n",
    "house <- house %>%\n",
    "    mutate(waterfront_fac = as.factor(waterfront),\n",
    "          view_fac = as.factor(view),\n",
    "          bedrooms_fac = as.factor(bedrooms),\n",
    "          bathrooms_fac = as.factor(bathrooms),\n",
    "          floors_fac = as.factor(floors),\n",
    "          condition_fac = as.factor(condition),\n",
    "          grade_fac = as.factor(grade),\n",
    "          price_log = log10(price),\n",
    "          sqft_above_log = log10(sqft_above),\n",
    "          sqft_living_log = log10(sqft_living),\n",
    "          sqft_basement_log = log10(sqft_basement + 1),\n",
    "          sqft_lot_log = log10(sqft_lot))\n",
    "\n",
    "#remove unuseful variables\n",
    "#lat and long provides finer detail than zip\n",
    "house <- house %>%\n",
    "    select(-id, -zipcode)\n",
    "\n",
    "#33 bed for 640k is probably an entry error\n",
    "#same with 0 bed/bath, but if they actually exist, they would likely\n",
    "#be priced lower. So, just remove those that are priced high.\n",
    "house <- house %>%\n",
    "    filter(bedrooms != 33,\n",
    "          !(bedrooms == 0 & bathrooms == 0 & price > 1000000))\n",
    "\n",
    "summary(house)\n",
    "str(house)"
   ]
  },
  {
   "cell_type": "markdown",
   "metadata": {},
   "source": [
    "From the summary() function, notice that there are many variables with an unusual amount of 0's - this suggests the distribution may be skewed."
   ]
  },
  {
   "cell_type": "markdown",
   "metadata": {},
   "source": [
    "## Visualizations\n",
    "\n",
    "### Continuous variables"
   ]
  },
  {
   "cell_type": "code",
   "execution_count": 172,
   "metadata": {},
   "outputs": [
    {
     "data": {
      "image/png": "[encoded data removed]",
      "text/plain": [
       "plot without title"
      ]
     },
     "metadata": {},
     "output_type": "display_data"
    }
   ],
   "source": [
    "ggpairs(house[, c(5, 6, 12, 13, 2)])"
   ]
  },
  {
   "cell_type": "code",
   "execution_count": 173,
   "metadata": {},
   "outputs": [
    {
     "data": {
      "image/png": "[encoded data removed]",
      "text/plain": [
       "plot without title"
      ]
     },
     "metadata": {},
     "output_type": "display_data"
    }
   ],
   "source": [
    "#look at the effects of the log transformations\n",
    "ggpairs(house[, c(29, 31, 28, 30, 27)])"
   ]
  },
  {
   "cell_type": "markdown",
   "metadata": {},
   "source": [
    "Looking at the visuals, there are a couple interesting patterns.\n",
    "\n",
    "   1. High correlation with $price$\n",
    "   2. High correlation between independent variables\n",
    "   3. Highly skewed distributions\n",
    "        - This was addressed using a log transformation "
   ]
  },
  {
   "cell_type": "markdown",
   "metadata": {},
   "source": [
    "### Discrete variables"
   ]
  },
  {
   "cell_type": "code",
   "execution_count": 174,
   "metadata": {},
   "outputs": [
    {
     "data": {
      "image/png": "[encoded data removed]",
      "text/plain": [
       "plot without title"
      ]
     },
     "metadata": {},
     "output_type": "display_data"
    },
    {
     "data": {
      "image/png": "[encoded data removed]",
      "text/plain": [
       "plot without title"
      ]
     },
     "metadata": {},
     "output_type": "display_data"
    }
   ],
   "source": [
    "#bedrooms\n",
    "house %>%\n",
    "    ggplot(aes(x = bathrooms_fac, y = price, color = bathrooms_fac)) +\n",
    "    geom_boxplot(size = 1) +\n",
    "    scale_y_continuous(label = label_dollar()) +\n",
    "    ggtitle(label = \"Price by number of bathrooms\") +\n",
    "    theme_minimal() +\n",
    "    guides(color = FALSE)\n",
    "\n",
    "#floors\n",
    "house %>%\n",
    "    ggplot(aes(x = floors_fac, y = price, color = floors_fac)) +\n",
    "    geom_boxplot(size = 1) +\n",
    "    coord_cartesian(ylim = c(0, 4000000)) +\n",
    "    scale_y_continuous(labels = label_dollar()) +\n",
    "    ggtitle(label = \"Price by number of floors\") +\n",
    "    theme_minimal() +\n",
    "    guides(color = FALSE)"
   ]
  },
  {
   "cell_type": "markdown",
   "metadata": {},
   "source": [
    "As the number of $bathrooms$ increases, so does $price$. This trend is also seen by number of $floors$, but its effect on $price$ is not as pronounced. \n",
    "\n",
    "**Hypothesis**\n",
    "\n",
    "Square foot living is a major predictor of price. Intuitively, this is logical since price per sq. ft. is a common metric used for home pricing evaluations.\n",
    "\n",
    "## Feature Engineering\n",
    "\n",
    "To try and increase performance of my models, I will use feature engineering. \n",
    "\n",
    "The first variable I will create is called $is\\_build\\_recently$, where a house built after 1975 is a recently built house.\n",
    "\n",
    "For the second, I will create a feature called $is\\_renovated$ from $yr\\_renovated$. This is to lessen the effect of the 0's, which represents an unrenovated house.\n",
    "\n",
    "Lastly, although there is only one year of data, a $month$ variable may be useful for season price adjustments."
   ]
  },
  {
   "cell_type": "code",
   "execution_count": 177,
   "metadata": {},
   "outputs": [
    {
     "data": {
      "text/plain": [
       "\n",
       "   no   yes \n",
       "10933 10677 "
      ]
     },
     "metadata": {},
     "output_type": "display_data"
    },
    {
     "data": {
      "text/plain": [
       "\n",
       "Before 2000  After 2000          No \n",
       "        456         458       20696 "
      ]
     },
     "metadata": {},
     "output_type": "display_data"
    },
    {
     "data": {
      "text/plain": [
       "\n",
       "   1    2    3    4    5    6    7    8    9   10   11   12 \n",
       " 978 1250 1875 2231 2414 2177 2211 1940 1774 1878 1411 1471 "
      ]
     },
     "metadata": {},
     "output_type": "display_data"
    },
    {
     "data": {
      "image/png": "[encoded data removed]",
      "text/plain": [
       "Plot with title \"Average house price by month\""
      ]
     },
     "metadata": {},
     "output_type": "display_data"
    }
   ],
   "source": [
    "#is_built_recently\n",
    "house$is_built_recently <- ifelse(house$yr_built > 1975, 'yes', 'no') %>% as.factor()\n",
    "table(house$is_built_recently)\n",
    "\n",
    "#is_renovated\n",
    "house <- house %>%\n",
    "    mutate(is_renovated = case_when(\n",
    "        yr_renovated == 0 ~ 'No',\n",
    "        yr_renovated >= 0 & yr_renovated < 2000 ~ \"Before 2000\",\n",
    "        yr_renovated >= 2000 ~ 'After 2000') %>% \n",
    "           factor(levels = c('Before 2000', 'After 2000', 'No')))\n",
    "table(house$is_renovated)\n",
    "\n",
    "#month\n",
    "house$date <- as_datetime(house$date)\n",
    "house$month <- month(house$date)\n",
    "table(house$month)\n",
    "\n",
    "house %>% \n",
    "    group_by(month) %>% \n",
    "    summarise(avg_price = mean(price)) %>% \n",
    "        plot(main = \"Average house price by month\")\n",
    "\n",
    "house <- house %>%\n",
    "    select(-yr_built, -yr_renovated, -date)"
   ]
  },
  {
   "cell_type": "markdown",
   "metadata": {},
   "source": [
    "There does seem to be a season pattern: prices peak during the spring-summer months and are lowest in the winter."
   ]
  },
  {
   "cell_type": "markdown",
   "metadata": {},
   "source": [
    "## Variable Selection\n",
    "\n",
    "To decide which variables will be included in the model, I will:\n",
    "\n",
    "   1. Evaluate variable correlations\n",
    "   2. Remove highly correlated independent variables\n",
    "   3. Evaluate variable significance\n",
    "   4. Remove variables with low significance"
   ]
  },
  {
   "cell_type": "code",
   "execution_count": 178,
   "metadata": {},
   "outputs": [
    {
     "data": {
      "text/html": [
       "<table>\n",
       "<thead><tr><th scope=col>Var1</th><th scope=col>Var2</th><th scope=col>value</th></tr></thead>\n",
       "<tbody>\n",
       "\t<tr><td>sqft_above   </td><td>sqft_living  </td><td>0.8765397    </td></tr>\n",
       "\t<tr><td>grade        </td><td>sqft_living  </td><td>0.7626435    </td></tr>\n",
       "\t<tr><td>sqft_living15</td><td>sqft_living  </td><td>0.7563012    </td></tr>\n",
       "\t<tr><td>sqft_above   </td><td>grade        </td><td>0.7558538    </td></tr>\n",
       "\t<tr><td>sqft_living  </td><td>bathrooms    </td><td>0.7556146    </td></tr>\n",
       "\t<tr><td>sqft_living15</td><td>sqft_above   </td><td>0.7316863    </td></tr>\n",
       "\t<tr><td>sqft_lot15   </td><td>sqft_lot     </td><td>0.7185560    </td></tr>\n",
       "\t<tr><td>sqft_living15</td><td>grade        </td><td>0.7130264    </td></tr>\n",
       "\t<tr><td>sqft_living  </td><td>price        </td><td>0.7019567    </td></tr>\n",
       "</tbody>\n",
       "</table>\n"
      ],
      "text/latex": [
       "\\begin{tabular}{r|lll}\n",
       " Var1 & Var2 & value\\\\\n",
       "\\hline\n",
       "\t sqft\\_above    & sqft\\_living   & 0.8765397      \\\\\n",
       "\t grade         & sqft\\_living & 0.7626435    \\\\\n",
       "\t sqft\\_living15 & sqft\\_living   & 0.7563012      \\\\\n",
       "\t sqft\\_above    & grade           & 0.7558538      \\\\\n",
       "\t sqft\\_living   & bathrooms       & 0.7556146      \\\\\n",
       "\t sqft\\_living15 & sqft\\_above    & 0.7316863      \\\\\n",
       "\t sqft\\_lot15    & sqft\\_lot      & 0.7185560      \\\\\n",
       "\t sqft\\_living15 & grade           & 0.7130264      \\\\\n",
       "\t sqft\\_living   & price           & 0.7019567      \\\\\n",
       "\\end{tabular}\n"
      ],
      "text/markdown": [
       "\n",
       "| Var1 | Var2 | value |\n",
       "|---|---|---|\n",
       "| sqft_above    | sqft_living   | 0.8765397     |\n",
       "| grade         | sqft_living   | 0.7626435     |\n",
       "| sqft_living15 | sqft_living   | 0.7563012     |\n",
       "| sqft_above    | grade         | 0.7558538     |\n",
       "| sqft_living   | bathrooms     | 0.7556146     |\n",
       "| sqft_living15 | sqft_above    | 0.7316863     |\n",
       "| sqft_lot15    | sqft_lot      | 0.7185560     |\n",
       "| sqft_living15 | grade         | 0.7130264     |\n",
       "| sqft_living   | price         | 0.7019567     |\n",
       "\n"
      ],
      "text/plain": [
       "  Var1          Var2        value    \n",
       "1 sqft_above    sqft_living 0.8765397\n",
       "2 grade         sqft_living 0.7626435\n",
       "3 sqft_living15 sqft_living 0.7563012\n",
       "4 sqft_above    grade       0.7558538\n",
       "5 sqft_living   bathrooms   0.7556146\n",
       "6 sqft_living15 sqft_above  0.7316863\n",
       "7 sqft_lot15    sqft_lot    0.7185560\n",
       "8 sqft_living15 grade       0.7130264\n",
       "9 sqft_living   price       0.7019567"
      ]
     },
     "metadata": {},
     "output_type": "display_data"
    },
    {
     "data": {
      "text/html": [
       "<table>\n",
       "<thead><tr><th scope=col>Var1</th><th scope=col>Var2</th><th scope=col>value</th></tr></thead>\n",
       "<tbody>\n",
       "\t<tr><td>price        </td><td>sqft_living  </td><td>0.7019567    </td></tr>\n",
       "\t<tr><td>price        </td><td>grade        </td><td>0.6674508    </td></tr>\n",
       "\t<tr><td>price        </td><td>sqft_above   </td><td>0.6054470    </td></tr>\n",
       "\t<tr><td>price        </td><td>sqft_living15</td><td>0.5852946    </td></tr>\n",
       "\t<tr><td>price        </td><td>bathrooms    </td><td>0.5258635    </td></tr>\n",
       "</tbody>\n",
       "</table>\n"
      ],
      "text/latex": [
       "\\begin{tabular}{r|lll}\n",
       " Var1 & Var2 & value\\\\\n",
       "\\hline\n",
       "\t price           & sqft\\_living   & 0.7019567      \\\\\n",
       "\t price         & grade         & 0.6674508    \\\\\n",
       "\t price           & sqft\\_above    & 0.6054470      \\\\\n",
       "\t price           & sqft\\_living15 & 0.5852946      \\\\\n",
       "\t price         & bathrooms     & 0.5258635    \\\\\n",
       "\\end{tabular}\n"
      ],
      "text/markdown": [
       "\n",
       "| Var1 | Var2 | value |\n",
       "|---|---|---|\n",
       "| price         | sqft_living   | 0.7019567     |\n",
       "| price         | grade         | 0.6674508     |\n",
       "| price         | sqft_above    | 0.6054470     |\n",
       "| price         | sqft_living15 | 0.5852946     |\n",
       "| price         | bathrooms     | 0.5258635     |\n",
       "\n"
      ],
      "text/plain": [
       "  Var1  Var2          value    \n",
       "1 price sqft_living   0.7019567\n",
       "2 price grade         0.6674508\n",
       "3 price sqft_above    0.6054470\n",
       "4 price sqft_living15 0.5852946\n",
       "5 price bathrooms     0.5258635"
      ]
     },
     "metadata": {},
     "output_type": "display_data"
    }
   ],
   "source": [
    "#high correlation will be defined as above 0.70\n",
    "house_cor <- house %>% select(1:19)\n",
    "\n",
    "correlationMatrix <- cor(select_if(house_cor, is.numeric))\n",
    "cor_melt <- arrange(melt(correlationMatrix), desc(value))\n",
    "cor_melt %>%\n",
    "    filter(value > 0.70, value != 1, row_number() %% 2 == 1)\n",
    "\n",
    "cor_melt %>%\n",
    "    filter(Var1 == \"price\", value > 0.50, value != 1)\n"
   ]
  },
  {
   "cell_type": "markdown",
   "metadata": {},
   "source": [
    "We see that sqft_living15 and sqft_lot15 are colinear to features of similar names. Also, they are highly correlated with price, so they will be removed before running data mining algorithms."
   ]
  },
  {
   "cell_type": "code",
   "execution_count": 179,
   "metadata": {},
   "outputs": [
    {
     "name": "stderr",
     "output_type": "stream",
     "text": [
      "Warning message in nominalTrainWorkflow(x = x, y = y, wts = weights, info = trainInfo, :\n",
      "\"There were missing values in resampled performance measures.\""
     ]
    },
    {
     "data": {
      "text/plain": [
       "rpart variable importance\n",
       "\n",
       "  only 20 most important variables shown (out of 76)\n",
       "\n",
       "                  Overall\n",
       "sqft_living        100.00\n",
       "lat                 76.00\n",
       "sqft_above          67.65\n",
       "grade_fac10         39.54\n",
       "grade_fac9          23.77\n",
       "grade_fac11         23.68\n",
       "bathrooms_fac2.25    0.00\n",
       "bathrooms_fac2       0.00\n",
       "grade_fac12          0.00\n",
       "bathrooms_fac0.75    0.00\n",
       "bedrooms_fac6        0.00\n",
       "view_fac1            0.00\n",
       "bathrooms_fac6.25    0.00\n",
       "bathrooms_fac6.5     0.00\n",
       "bathrooms_fac1.25    0.00\n",
       "bedrooms_fac3        0.00\n",
       "bathrooms_fac6.75    0.00\n",
       "bedrooms_fac4        0.00\n",
       "bathrooms_fac2.75    0.00\n",
       "sqft_basement        0.00"
      ]
     },
     "metadata": {},
     "output_type": "display_data"
    }
   ],
   "source": [
    "tree_df <- house %>%\n",
    "    select(price, bedrooms_fac, bathrooms_fac, sqft_living, sqft_lot,\n",
    "          floors_fac, condition_fac, grade_fac, sqft_above, sqft_basement,\n",
    "          lat, long, waterfront_fac, view_fac, is_built_recently, is_renovated, month)\n",
    "\n",
    "tree_model <- train(price ~ ., data = tree_df,\n",
    "                   method = \"rpart\",\n",
    "                   trControl = trainControl(method = \"cv\", number = 3))\n",
    "var_imp <- varImp(tree_model)\n",
    "var_imp\n",
    "\n",
    "house <- house %>%\n",
    "    select(-sqft_living15, -sqft_lot15)"
   ]
  },
  {
   "cell_type": "markdown",
   "metadata": {},
   "source": [
    "Using a decision tree to view variable importance, we see that our hypothesis is correct - $sqft\\_living$ is indeed a major predictor of price. This is followed by $lat$, $sqft\\_above$, and high $grade$. However, I decided to keep all the variables since I want to account for the impact, however small, of things such as number of floors."
   ]
  },
  {
   "cell_type": "markdown",
   "metadata": {},
   "source": [
    "## Model Selection\n",
    "\n",
    "I will consider 7 different models: linear regression, forward regression, backward regression, ridge regression, lasso regression, random forest, and bagged trees.\n",
    "\n",
    "### Create training and testing sets"
   ]
  },
  {
   "cell_type": "code",
   "execution_count": 180,
   "metadata": {},
   "outputs": [],
   "source": [
    "in_train <- createDataPartition(y = house$price,\n",
    "                               p = 0.80,\n",
    "                               list = FALSE)\n",
    "house_train <- house[in_train, ]\n",
    "house_test <- house[-in_train, ]"
   ]
  },
  {
   "cell_type": "markdown",
   "metadata": {},
   "source": [
    "### Pre-process"
   ]
  },
  {
   "cell_type": "code",
   "execution_count": 182,
   "metadata": {},
   "outputs": [],
   "source": [
    "preprocessing_steps = preProcess(select(house, -price, -price_log),\n",
    "                                method = c('center', 'scale', 'nzv'))\n",
    "\n",
    "house_train_proc = predict(preprocessing_steps, newdata = house_train)\n",
    "house_test_proc = predict(preprocessing_steps, newdata = house_test)"
   ]
  },
  {
   "cell_type": "markdown",
   "metadata": {},
   "source": [
    "**Linear Regression**"
   ]
  },
  {
   "cell_type": "code",
   "execution_count": 193,
   "metadata": {},
   "outputs": [
    {
     "data": {
      "text/plain": [
       "\n",
       "Call:\n",
       "lm(formula = .outcome ~ ., data = dat)\n",
       "\n",
       "Residuals:\n",
       "     Min       1Q   Median       3Q      Max \n",
       "-0.59440 -0.07644 -0.00140  0.07055  0.58665 \n",
       "\n",
       "Coefficients:\n",
       "                           Estimate Std. Error t value Pr(>|t|)    \n",
       "(Intercept)               5.7356173  0.0061653 930.313  < 2e-16 ***\n",
       "sqft_living_log           0.0776900  0.0022778  34.107  < 2e-16 ***\n",
       "sqft_above_log            0.0113594  0.0020154   5.636 1.76e-08 ***\n",
       "bedrooms                 -0.0170917  0.0012184 -14.027  < 2e-16 ***\n",
       "bathrooms                 0.0218616  0.0015811  13.827  < 2e-16 ***\n",
       "grade                     0.0959107  0.0015163  63.252  < 2e-16 ***\n",
       "lat                       0.0840897  0.0009365  89.794  < 2e-16 ***\n",
       "long                     -0.0082216  0.0010239  -8.030 1.04e-15 ***\n",
       "condition                 0.0219014  0.0009823  22.296  < 2e-16 ***\n",
       "is_built_recentlyyes     -0.0606102  0.0025887 -23.413  < 2e-16 ***\n",
       "`is_renovatedAfter 2000`  0.0393216  0.0087413   4.498 6.89e-06 ***\n",
       "is_renovatedNo           -0.0415303  0.0063363  -6.554 5.75e-11 ***\n",
       "month                    -0.0068847  0.0008944  -7.697 1.46e-14 ***\n",
       "---\n",
       "Signif. codes:  0 '***' 0.001 '**' 0.01 '*' 0.05 '.' 0.1 ' ' 1\n",
       "\n",
       "Residual standard error: 0.1178 on 17276 degrees of freedom\n",
       "Multiple R-squared:  0.7358,\tAdjusted R-squared:  0.7356 \n",
       "F-statistic:  4009 on 12 and 17276 DF,  p-value: < 2.2e-16\n"
      ]
     },
     "metadata": {},
     "output_type": "display_data"
    }
   ],
   "source": [
    "#use processed data, with transformed vars\n",
    "#vars chosen after exploratory analysis due to good properties with price\n",
    "#in order to optimize performance and try to prevent overfitting\n",
    "house_lm <- house_train_proc %>%\n",
    "    select(price_log, sqft_living_log, sqft_above_log, bedrooms, bathrooms,\n",
    "          grade, lat, long, condition, is_built_recently, is_renovated, month)\n",
    "\n",
    "trControl = trainControl(method = 'cv', number = 3)\n",
    "\n",
    "lm_model <- train(price_log ~ .,\n",
    "                 data = house_lm,\n",
    "                 method = 'lm',\n",
    "                 metric = 'RMSE',\n",
    "                 trControl = trControl)\n",
    "summary(lm_model)"
   ]
  },
  {
   "cell_type": "markdown",
   "metadata": {},
   "source": [
    "**Forward Regression**"
   ]
  },
  {
   "cell_type": "code",
   "execution_count": 184,
   "metadata": {},
   "outputs": [
    {
     "name": "stderr",
     "output_type": "stream",
     "text": [
      "Warning message in leaps.setup(x, y, wt = weights, nbest = nbest, nvmax = nvmax, :\n",
      "\"5  linear dependencies found\""
     ]
    },
    {
     "name": "stdout",
     "output_type": "stream",
     "text": [
      "Reordering variables and trying again:\n"
     ]
    },
    {
     "name": "stderr",
     "output_type": "stream",
     "text": [
      "Warning message in leaps.setup(x, y, wt = weights, nbest = nbest, nvmax = nvmax, :\n",
      "\"6  linear dependencies found\""
     ]
    },
    {
     "name": "stdout",
     "output_type": "stream",
     "text": [
      "Reordering variables and trying again:\n"
     ]
    },
    {
     "name": "stderr",
     "output_type": "stream",
     "text": [
      "Warning message in leaps.setup(x, y, wt = weights, nbest = nbest, nvmax = nvmax, :\n",
      "\"3  linear dependencies found\""
     ]
    },
    {
     "name": "stdout",
     "output_type": "stream",
     "text": [
      "Reordering variables and trying again:\n"
     ]
    },
    {
     "name": "stderr",
     "output_type": "stream",
     "text": [
      "Warning message in leaps.setup(x, y, wt = weights, nbest = nbest, nvmax = nvmax, :\n",
      "\"2  linear dependencies found\""
     ]
    },
    {
     "name": "stdout",
     "output_type": "stream",
     "text": [
      "Reordering variables and trying again:\n"
     ]
    },
    {
     "data": {
      "image/png": "[encoded data removed]",
      "text/plain": [
       "plot without title"
      ]
     },
     "metadata": {},
     "output_type": "display_data"
    }
   ],
   "source": [
    "#use processed data, with factored vars\n",
    "house_reg <- house_train_proc %>%\n",
    "    select(1, 4, 5, 9:18, 23:25) \n",
    "\n",
    "forward_model <- train(price ~ ., data = house_reg,\n",
    "                      method = \"leapForward\",\n",
    "                      tuneGrid = expand.grid(nvmax = 1:20),\n",
    "                      trControl = trControl)\n",
    "plot(forward_model)"
   ]
  },
  {
   "cell_type": "markdown",
   "metadata": {},
   "source": [
    "**Backward Regression**"
   ]
  },
  {
   "cell_type": "code",
   "execution_count": 185,
   "metadata": {},
   "outputs": [
    {
     "name": "stderr",
     "output_type": "stream",
     "text": [
      "Warning message in leaps.setup(x, y, wt = weights, nbest = nbest, nvmax = nvmax, :\n",
      "\"3  linear dependencies found\""
     ]
    },
    {
     "name": "stdout",
     "output_type": "stream",
     "text": [
      "Reordering variables and trying again:\n"
     ]
    },
    {
     "name": "stderr",
     "output_type": "stream",
     "text": [
      "Warning message in leaps.setup(x, y, wt = weights, nbest = nbest, nvmax = nvmax, :\n",
      "\"5  linear dependencies found\""
     ]
    },
    {
     "name": "stdout",
     "output_type": "stream",
     "text": [
      "Reordering variables and trying again:\n"
     ]
    },
    {
     "name": "stderr",
     "output_type": "stream",
     "text": [
      "Warning message in leaps.setup(x, y, wt = weights, nbest = nbest, nvmax = nvmax, :\n",
      "\"6  linear dependencies found\""
     ]
    },
    {
     "name": "stdout",
     "output_type": "stream",
     "text": [
      "Reordering variables and trying again:\n"
     ]
    },
    {
     "name": "stderr",
     "output_type": "stream",
     "text": [
      "Warning message in leaps.setup(x, y, wt = weights, nbest = nbest, nvmax = nvmax, :\n",
      "\"2  linear dependencies found\""
     ]
    },
    {
     "name": "stdout",
     "output_type": "stream",
     "text": [
      "Reordering variables and trying again:\n"
     ]
    },
    {
     "data": {
      "image/png": "[encoded data removed]",
      "text/plain": [
       "plot without title"
      ]
     },
     "metadata": {},
     "output_type": "display_data"
    }
   ],
   "source": [
    "backward_model <- train(price ~ ., data = house_reg,\n",
    "                       method = \"leapBackward\",\n",
    "                       tuneGrid = expand.grid(nvmax = 1:20),\n",
    "                       trControl = trControl)\n",
    "plot(backward_model)"
   ]
  },
  {
   "cell_type": "markdown",
   "metadata": {},
   "source": [
    "**Ridge Regression**"
   ]
  },
  {
   "cell_type": "code",
   "execution_count": 186,
   "metadata": {},
   "outputs": [
    {
     "data": {
      "image/png": "[encoded data removed]",
      "text/plain": [
       "plot without title"
      ]
     },
     "metadata": {},
     "output_type": "display_data"
    }
   ],
   "source": [
    "#runs only if vars are numeric. Results in 6 features, possibly limiting \n",
    "#the model\n",
    "house_ridge_lasso <- house_reg %>%\n",
    "    mutate_if(is.integer, as.numeric) %>% \n",
    "    select_if(is.numeric)\n",
    "\n",
    "ridge_model <- train(price ~ ., data = house_ridge_lasso,\n",
    "                    method = \"ridge\",\n",
    "                    tunegrid = expand.grid(lambda = seq(0, 1, 0.05)),\n",
    "                    trControl = trControl)\n",
    "plot(ridge_model)"
   ]
  },
  {
   "cell_type": "markdown",
   "metadata": {},
   "source": [
    "**Lasso Regression**"
   ]
  },
  {
   "cell_type": "code",
   "execution_count": 187,
   "metadata": {},
   "outputs": [
    {
     "name": "stderr",
     "output_type": "stream",
     "text": [
      "Warning message in nominalTrainWorkflow(x = x, y = y, wts = weights, info = trainInfo, :\n",
      "\"There were missing values in resampled performance measures.\""
     ]
    },
    {
     "data": {
      "image/png": "[encoded data removed]",
      "text/plain": [
       "plot without title"
      ]
     },
     "metadata": {},
     "output_type": "display_data"
    }
   ],
   "source": [
    "lasso_model <- train(price ~ ., data = house_ridge_lasso,\n",
    "                    method = \"lasso\",\n",
    "                    tuneGrid = expand.grid(fraction = seq(0, 1, 0.05)),\n",
    "                    trControl = trControl)\n",
    "plot(lasso_model)"
   ]
  },
  {
   "cell_type": "markdown",
   "metadata": {},
   "source": [
    "**Bagged Trees**"
   ]
  },
  {
   "cell_type": "code",
   "execution_count": 188,
   "metadata": {},
   "outputs": [
    {
     "name": "stderr",
     "output_type": "stream",
     "text": [
      "Warning message:\n",
      "\"Setting row names on a tibble is deprecated.\"Warning message:\n",
      "\"Setting row names on a tibble is deprecated.\"Warning message:\n",
      "\"Setting row names on a tibble is deprecated.\"Warning message:\n",
      "\"Setting row names on a tibble is deprecated.\""
     ]
    },
    {
     "data": {
      "text/plain": [
       "Bagged CART \n",
       "\n",
       "17289 samples\n",
       "   16 predictor\n",
       "\n",
       "No pre-processing\n",
       "Resampling: Cross-Validated (3 fold) \n",
       "Summary of sample sizes: 11527, 11525, 11526 \n",
       "Resampling results:\n",
       "\n",
       "  RMSE      Rsquared   MAE     \n",
       "  189501.7  0.7391769  117734.1\n"
      ]
     },
     "metadata": {},
     "output_type": "display_data"
    }
   ],
   "source": [
    "#use unprocessed data, with factored vars\n",
    "house_tree <- house_train %>%\n",
    "    select(1, 4, 5, 11:21, 27:29)\n",
    "\n",
    "bagged_model <- train(y = house_tree$price,\n",
    "                     x = select(house_tree, -price),\n",
    "                     method = 'treebag',\n",
    "                     trControl = trControl)\n",
    "bagged_model"
   ]
  },
  {
   "cell_type": "markdown",
   "metadata": {},
   "source": [
    "**Random Forest**"
   ]
  },
  {
   "cell_type": "code",
   "execution_count": 189,
   "metadata": {
    "scrolled": true
   },
   "outputs": [
    {
     "name": "stderr",
     "output_type": "stream",
     "text": [
      "Warning message:\n",
      "\"Setting row names on a tibble is deprecated.\"Warning message:\n",
      "\"Setting row names on a tibble is deprecated.\"Warning message:\n",
      "\"Setting row names on a tibble is deprecated.\"Warning message:\n",
      "\"Setting row names on a tibble is deprecated.\""
     ]
    },
    {
     "data": {
      "text/plain": [
       "Random Forest \n",
       "\n",
       "17289 samples\n",
       "   16 predictor\n",
       "\n",
       "No pre-processing\n",
       "Resampling: Cross-Validated (3 fold) \n",
       "Summary of sample sizes: 11526, 11526, 11526 \n",
       "Resampling results:\n",
       "\n",
       "  RMSE      Rsquared   MAE    \n",
       "  138080.6  0.8607928  71889.8\n",
       "\n",
       "Tuning parameter 'mtry' was held constant at a value of 15"
      ]
     },
     "metadata": {},
     "output_type": "display_data"
    }
   ],
   "source": [
    "#optimal mtry is 15, ntrees left at default due to length of time \n",
    "rf_model <- train(y = house_tree$price,\n",
    "                 x = select(house_tree, -price),\n",
    "                 method = 'rf',\n",
    "                 tuneGrid = expand.grid(.mtry = 15),\n",
    "                 trControl = trControl)\n",
    "rf_model"
   ]
  },
  {
   "cell_type": "markdown",
   "metadata": {},
   "source": [
    "### Model Comparison"
   ]
  },
  {
   "cell_type": "code",
   "execution_count": 190,
   "metadata": {},
   "outputs": [
    {
     "data": {
      "text/plain": [
       "\n",
       "Call:\n",
       "summary.resamples(object = compare)\n",
       "\n",
       "Models: linear, forward, backward, ridge, lasso, bagged, random_forest \n",
       "Number of resamples: 3 \n",
       "\n",
       "MAE \n",
       "                      Min.      1st Qu.       Median         Mean      3rd Qu.\n",
       "linear        9.072130e-02 9.078789e-02 9.085447e-02 9.108992e-02 9.127423e-02\n",
       "forward       1.308659e+05 1.342973e+05 1.377286e+05 1.366293e+05 1.395110e+05\n",
       "backward      1.289009e+05 1.300338e+05 1.311667e+05 1.329252e+05 1.349373e+05\n",
       "ridge         1.475435e+05 1.491313e+05 1.507191e+05 1.501520e+05 1.514562e+05\n",
       "lasso         1.489378e+05 1.497782e+05 1.506186e+05 1.501994e+05 1.508301e+05\n",
       "bagged        1.164681e+05 1.168497e+05 1.172312e+05 1.177341e+05 1.183670e+05\n",
       "random_forest 7.084515e+04 7.130093e+04 7.175672e+04 7.188980e+04 7.241213e+04\n",
       "                      Max. NA's\n",
       "linear        9.169398e-02    0\n",
       "forward       1.412934e+05    0\n",
       "backward      1.387080e+05    0\n",
       "ridge         1.521933e+05    0\n",
       "lasso         1.510417e+05    0\n",
       "bagged        1.195029e+05    0\n",
       "random_forest 7.306753e+04    0\n",
       "\n",
       "RMSE \n",
       "                      Min.      1st Qu.       Median         Mean      3rd Qu.\n",
       "linear        1.170944e-01 1.174740e-01 1.178536e-01 1.178158e-01 1.181765e-01\n",
       "forward       2.112826e+05 2.123058e+05 2.133290e+05 2.156454e+05 2.178269e+05\n",
       "backward      1.963683e+05 2.029390e+05 2.095098e+05 2.100694e+05 2.169199e+05\n",
       "ridge         2.295139e+05 2.337741e+05 2.380342e+05 2.368078e+05 2.404548e+05\n",
       "lasso         2.279219e+05 2.315477e+05 2.351734e+05 2.369794e+05 2.415081e+05\n",
       "bagged        1.847486e+05 1.850417e+05 1.853348e+05 1.895017e+05 1.918783e+05\n",
       "random_forest 1.310450e+05 1.326817e+05 1.343185e+05 1.380806e+05 1.415983e+05\n",
       "                      Max. NA's\n",
       "linear        1.184993e-01    0\n",
       "forward       2.223248e+05    0\n",
       "backward      2.243300e+05    0\n",
       "ridge         2.428753e+05    0\n",
       "lasso         2.478428e+05    0\n",
       "bagged        1.984218e+05    0\n",
       "random_forest 1.488782e+05    0\n",
       "\n",
       "Rsquared \n",
       "                   Min.   1st Qu.    Median      Mean   3rd Qu.      Max. NA's\n",
       "linear        0.7291116 0.7320786 0.7350457 0.7353154 0.7384174 0.7417891    0\n",
       "forward       0.6399556 0.6496287 0.6593018 0.6531524 0.6597508 0.6601999    0\n",
       "backward      0.6618626 0.6649988 0.6681350 0.6745172 0.6808444 0.6935539    0\n",
       "ridge         0.5699120 0.5759553 0.5819986 0.5818306 0.5877898 0.5935810    0\n",
       "lasso         0.5791060 0.5803598 0.5816135 0.5819092 0.5833108 0.5850081    0\n",
       "bagged        0.7234543 0.7303625 0.7372707 0.7391769 0.7470382 0.7568058    0\n",
       "random_forest 0.8339266 0.8513442 0.8687617 0.8607928 0.8742258 0.8796899    0\n"
      ]
     },
     "metadata": {},
     "output_type": "display_data"
    },
    {
     "data": {
      "image/png": "[encoded data removed]",
      "text/plain": [
       "plot without title"
      ]
     },
     "metadata": {},
     "output_type": "display_data"
    }
   ],
   "source": [
    "compare <- resamples(list(linear = lm_model,\n",
    "                         forward = forward_model,\n",
    "                         backward = backward_model,\n",
    "                         ridge = ridge_model,\n",
    "                         lasso = lasso_model,\n",
    "                         bagged = bagged_model,\n",
    "                         random_forest = rf_model))\n",
    "summary(compare)\n",
    "dotplot(compare)"
   ]
  },
  {
   "cell_type": "markdown",
   "metadata": {},
   "source": [
    "Using the results of the models and 3-fold cross-validation, we see that random forest outperforms the regression and bagged models. Note that the linear model has wrong error values, but it can be safely assumed that it is similar to the other regression models, i.e. an RMSE of ~ 200,000.\n",
    "\n",
    "**Selected Model**:\n",
    "\n",
    "    Random Forest\n",
    "\n"
   ]
  },
  {
   "cell_type": "markdown",
   "metadata": {},
   "source": [
    "## Prediction of Home Price"
   ]
  },
  {
   "cell_type": "code",
   "execution_count": 192,
   "metadata": {},
   "outputs": [
    {
     "name": "stdout",
     "output_type": "stream",
     "text": [
      "[1] 730250.8\n"
     ]
    }
   ],
   "source": [
    "to_predict <- house_tree[0, ]\n",
    "to_predict[1, ]$sqft_living <- 2000\n",
    "to_predict[1, ]$sqft_lot <- 3000\n",
    "to_predict[1, ]$sqft_above <- 1500\n",
    "to_predict[1, ]$sqft_basement <- 500\n",
    "to_predict[1, ]$lat <- 47.77\n",
    "to_predict[1, ]$long <- -122.20\n",
    "to_predict[1, ]$waterfront_fac <- 0\n",
    "to_predict[1, ]$view_fac <- 1\n",
    "to_predict[1, ]$bedrooms_fac <- 4\n",
    "to_predict[1, ]$bathrooms_fac <- 2\n",
    "to_predict[1, ]$floors_fac <- 2\n",
    "to_predict[1, ]$condition_fac <- 4\n",
    "to_predict[1, ]$grade_fac <- 9\n",
    "to_predict[1, ]$is_built_recently <- \"no\"\n",
    "to_predict[1, ]$is_renovated <- \"No\"\n",
    "to_predict[1, ]$month <- 12\n",
    "\n",
    "to_predict$price <- predict(rf_model, newdata = to_predict)\n",
    "print(to_predict$price)"
   ]
  },
  {
   "cell_type": "markdown",
   "metadata": {},
   "source": [
    "The predicted price of a house you might find near my neighborhood is **$730,250.80**."
   ]
  }
 ],
 "metadata": {
  "kernelspec": {
   "display_name": "R",
   "language": "R",
   "name": "ir"
  },
  "language_info": {
   "codemirror_mode": "r",
   "file_extension": ".r",
   "mimetype": "text/x-r-source",
   "name": "R",
   "pygments_lexer": "r",
   "version": "3.6.1"
  }
 },
 "nbformat": 4,
 "nbformat_minor": 4
}
